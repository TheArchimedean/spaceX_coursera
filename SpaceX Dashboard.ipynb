{
 "cells": [
  {
   "cell_type": "markdown",
   "id": "446ebb21",
   "metadata": {},
   "source": [
    "# SpaceX Dashboard"
   ]
  },
  {
   "cell_type": "code",
   "execution_count": 1,
   "id": "134852e4",
   "metadata": {},
   "outputs": [
    {
     "name": "stderr",
     "output_type": "stream",
     "text": [
      "C:\\Users\\edwar\\AppData\\Local\\Temp\\ipykernel_20832\\1527385771.py:4: UserWarning: \n",
      "The dash_html_components package is deprecated. Please replace\n",
      "`import dash_html_components as html` with `from dash import html`\n",
      "  import dash_html_components as html\n",
      "C:\\Users\\edwar\\AppData\\Local\\Temp\\ipykernel_20832\\1527385771.py:5: UserWarning: \n",
      "The dash_core_components package is deprecated. Please replace\n",
      "`import dash_core_components as dcc` with `from dash import dcc`\n",
      "  import dash_core_components as dcc\n"
     ]
    },
    {
     "data": {
      "text/html": [
       "\n",
       "        <iframe\n",
       "            width=\"100%\"\n",
       "            height=\"650\"\n",
       "            src=\"http://127.0.0.1:8050/\"\n",
       "            frameborder=\"0\"\n",
       "            allowfullscreen\n",
       "            \n",
       "        ></iframe>\n",
       "        "
      ],
      "text/plain": [
       "<IPython.lib.display.IFrame at 0x2e2569f7df0>"
      ]
     },
     "metadata": {},
     "output_type": "display_data"
    },
    {
     "name": "stderr",
     "output_type": "stream",
     "text": [
      "C:\\Users\\edwar\\AppData\\Local\\Temp\\ipykernel_20832\\1527385771.py:63: SettingWithCopyWarning:\n",
      "\n",
      "\n",
      "A value is trying to be set on a copy of a slice from a DataFrame.\n",
      "Try using .loc[row_indexer,col_indexer] = value instead\n",
      "\n",
      "See the caveats in the documentation: https://pandas.pydata.org/pandas-docs/stable/user_guide/indexing.html#returning-a-view-versus-a-copy\n",
      "\n"
     ]
    }
   ],
   "source": [
    "# Import required libraries\n",
    "import pandas as pd\n",
    "import dash\n",
    "import dash_html_components as html\n",
    "import dash_core_components as dcc\n",
    "from dash.dependencies import Input, Output\n",
    "import plotly.express as px\n",
    "\n",
    "# Read the airline data into pandas dataframe\n",
    "spacex_df = pd.read_csv(\"spacex_launch_dash.csv\")\n",
    "max_payload = spacex_df['Payload Mass (kg)'].max()\n",
    "min_payload = spacex_df['Payload Mass (kg)'].min()\n",
    "\n",
    "# Create a dash application\n",
    "app = dash.Dash(__name__)\n",
    "\n",
    "# Create an app layout\n",
    "app.layout = html.Div(children=[html.H1('SpaceX Launch Records Dashboard',\n",
    "                                        style={'textAlign': 'center', 'color': '#503D36',\n",
    "                                               'font-size': 40}),\n",
    "                                # TASK 1: Add a dropdown list to enable Launch Site selection\n",
    "                                # The default select value is for ALL sites\n",
    "                                dcc.Dropdown(id='site-dropdown',\n",
    "                                             options = [{'label': 'All Sites', 'value': 'ALL'},\n",
    "                                                        {'label': 'CCAFS LC-40', 'value': 'CCAFS LC-40'},\n",
    "                                                        {'label': 'VAFB SLC-4E', 'value': 'VAFB SLC-4E'},\n",
    "                                                        {'label': 'KSC LC-39A', 'value': 'KSC LC-39A'},\n",
    "                                                        {'label': 'CCAFS SLC-40', 'value': 'CCAFS SLC-40'}],\n",
    "                                             value='ALL',\n",
    "                                             placeholder=\"Select a Launch Site here\",\n",
    "                                             searchable=True),\n",
    "                                html.Br(),\n",
    "\n",
    "                                # TASK 2: Add a pie chart to show the total successful launches count for all sites\n",
    "                                # If a specific launch site was selected, show the Success vs. Failed counts for the site\n",
    "                                html.Div(dcc.Graph(id='success-pie-chart')),\n",
    "                                html.Br(),\n",
    "\n",
    "                                html.P(\"Payload range (Kg):\"),\n",
    "                                # TASK 3: Add a slider to select payload range\n",
    "                                dcc.RangeSlider(id='payload-slider',\n",
    "                                                min=0, max=10000, step=1000,\n",
    "                                                marks={0:'0', 2500:'2500', 5000: '5000', 7500:'7500', 10000:'10000'},\n",
    "                                                value=[min_payload, max_payload]),\n",
    "\n",
    "                                # TASK 4: Add a scatter chart to show the correlation between payload and launch success\n",
    "                                html.Div(dcc.Graph(id='success-payload-scatter-chart')),\n",
    "                                ])\n",
    "\n",
    "# TASK 2:\n",
    "# Add a callback function for `site-dropdown` as input, `success-pie-chart` as output\n",
    "@app.callback(Output(component_id = 'success-pie-chart', component_property = 'figure'),\n",
    "              Input(component_id = 'site-dropdown', component_property = 'value'))\n",
    "def get_pie_chart(entered_site):\n",
    "    filtered_df = spacex_df\n",
    "    if entered_site == 'ALL':\n",
    "        fig = px.pie(filtered_df, values='class',\n",
    "        names = 'Launch Site',\n",
    "        title = 'Total Success Launches By Site')\n",
    "        return fig\n",
    "    else:\n",
    "        filtered_df = spacex_df.loc[spacex_df[\"Launch Site\"] == entered_site]\n",
    "        filtered_df[\"class_sum\"] = filtered_df['class'].sum()\n",
    "        fig = px.pie(filtered_df, values='class_sum',\n",
    "        names = 'class',\n",
    "        title = 'Total Success Launches for site ' + entered_site)\n",
    "        return fig\n",
    "\n",
    "\n",
    "# TASK 4:\n",
    "# Add a callback function for `site-dropdown` and `payload-slider` as inputs, `success-payload-scatter-chart` as output\n",
    "@app.callback(Output(component_id='success-payload-scatter-chart', component_property='figure'),\n",
    "              [Input(component_id='site-dropdown', component_property='value'), \n",
    "              Input(component_id=\"payload-slider\", component_property=\"value\")])\n",
    "def get_scatter_plot(entered_site, payload_mass_range):\n",
    "    low, high = payload_mass_range\n",
    "    filtered_df = spacex_df[(spacex_df[\"Payload Mass (kg)\"] > low) & (spacex_df[\"Payload Mass (kg)\"] < high)]\n",
    "\n",
    "    if entered_site == 'ALL':\n",
    "        fig = px.scatter(filtered_df, \n",
    "                         x=\"Payload Mass (kg)\", \n",
    "                         y=\"class\", \n",
    "                         color=\"Booster Version Category\",\n",
    "                         title=\"Correlation between Payload and Success for all sites\")\n",
    "        return fig\n",
    "    else:\n",
    "        filtered_df = filtered_df.loc[spacex_df[\"Launch Site\"] == entered_site]\n",
    "        fig = px.scatter(filtered_df, \n",
    "                         x=\"Payload Mass (kg)\", \n",
    "                         y=\"class\", \n",
    "                         color=\"Booster Version Category\",\n",
    "                         title=\"Correlation between Payload and Success for site\" + entered_site)\n",
    "        return fig\n",
    "\n",
    "# Run the app\n",
    "if __name__ == '__main__':\n",
    "    app.run()"
   ]
  },
  {
   "cell_type": "code",
   "execution_count": null,
   "id": "4e4d9c4b",
   "metadata": {},
   "outputs": [],
   "source": []
  }
 ],
 "metadata": {
  "kernelspec": {
   "display_name": "Python 3 (ipykernel)",
   "language": "python",
   "name": "python3"
  },
  "language_info": {
   "codemirror_mode": {
    "name": "ipython",
    "version": 3
   },
   "file_extension": ".py",
   "mimetype": "text/x-python",
   "name": "python",
   "nbconvert_exporter": "python",
   "pygments_lexer": "ipython3",
   "version": "3.10.12"
  }
 },
 "nbformat": 4,
 "nbformat_minor": 5
}
